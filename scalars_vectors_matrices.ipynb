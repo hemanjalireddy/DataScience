{
  "nbformat": 4,
  "nbformat_minor": 0,
  "metadata": {
    "colab": {
      "name": "scalars_vectors_matrices.ipynb",
      "provenance": [],
      "authorship_tag": "ABX9TyME6oqtSFhK9Dp7qEjO5Rmn"
    },
    "kernelspec": {
      "name": "python3",
      "display_name": "Python 3"
    },
    "language_info": {
      "name": "python"
    }
  },
  "cells": [
    {
      "cell_type": "markdown",
      "source": [
        "## Import the libraries"
      ],
      "metadata": {
        "id": "dEZE5VH8RbxY"
      }
    },
    {
      "cell_type": "code",
      "execution_count": 1,
      "metadata": {
        "id": "gh7pAFkJQu2G"
      },
      "outputs": [],
      "source": [
        "import numpy as np"
      ]
    },
    {
      "cell_type": "markdown",
      "source": [
        "## Scalar"
      ],
      "metadata": {
        "id": "l88ct0o-RfEB"
      }
    },
    {
      "cell_type": "code",
      "source": [
        "s=5"
      ],
      "metadata": {
        "id": "uorZned0Rel_"
      },
      "execution_count": 2,
      "outputs": []
    },
    {
      "cell_type": "markdown",
      "source": [
        "## Vector"
      ],
      "metadata": {
        "id": "tV1QoZX6RkDo"
      }
    },
    {
      "cell_type": "code",
      "source": [
        "v = np.array([5,-2,4]) #row vector\n",
        "v"
      ],
      "metadata": {
        "colab": {
          "base_uri": "https://localhost:8080/"
        },
        "id": "QW5aAO8ORjpp",
        "outputId": "a6f3ff37-e718-4406-8f25-d7305408648b"
      },
      "execution_count": 3,
      "outputs": [
        {
          "output_type": "execute_result",
          "data": {
            "text/plain": [
              "array([ 5, -2,  4])"
            ]
          },
          "metadata": {},
          "execution_count": 3
        }
      ]
    },
    {
      "cell_type": "markdown",
      "source": [
        "## Matix "
      ],
      "metadata": {
        "id": "2VdvPGLkRx4Y"
      }
    },
    {
      "cell_type": "code",
      "source": [
        "m = np.array([[5,12,6] , [-3,0,14]])\n",
        "m"
      ],
      "metadata": {
        "colab": {
          "base_uri": "https://localhost:8080/"
        },
        "id": "1XxkaXz6RzNi",
        "outputId": "640758a9-5f8d-48d1-d126-1a3fea1d5ae3"
      },
      "execution_count": 4,
      "outputs": [
        {
          "output_type": "execute_result",
          "data": {
            "text/plain": [
              "array([[ 5, 12,  6],\n",
              "       [-3,  0, 14]])"
            ]
          },
          "metadata": {},
          "execution_count": 4
        }
      ]
    },
    {
      "cell_type": "markdown",
      "source": [
        "## Data types"
      ],
      "metadata": {
        "id": "sqgWf0xaStvp"
      }
    },
    {
      "cell_type": "code",
      "source": [
        "type(s)"
      ],
      "metadata": {
        "colab": {
          "base_uri": "https://localhost:8080/"
        },
        "id": "yFVkGidbSvDg",
        "outputId": "9e6dc70a-ad48-4da0-a777-3b3c0aac4178"
      },
      "execution_count": 5,
      "outputs": [
        {
          "output_type": "execute_result",
          "data": {
            "text/plain": [
              "int"
            ]
          },
          "metadata": {},
          "execution_count": 5
        }
      ]
    },
    {
      "cell_type": "code",
      "source": [
        "type(v)\n",
        "type(m)"
      ],
      "metadata": {
        "colab": {
          "base_uri": "https://localhost:8080/"
        },
        "id": "eS-Zt1GESyU4",
        "outputId": "5bbc20e2-ca19-4769-b535-1c3ddc2dd2ac"
      },
      "execution_count": 6,
      "outputs": [
        {
          "output_type": "execute_result",
          "data": {
            "text/plain": [
              "numpy.ndarray"
            ]
          },
          "metadata": {},
          "execution_count": 6
        }
      ]
    },
    {
      "cell_type": "code",
      "source": [
        "s_array = np.array(5)\n",
        "type(s_array)"
      ],
      "metadata": {
        "colab": {
          "base_uri": "https://localhost:8080/"
        },
        "id": "EGieUdMAS3AX",
        "outputId": "964b10f4-10dc-4909-b750-5a806f4a7c23"
      },
      "execution_count": 7,
      "outputs": [
        {
          "output_type": "execute_result",
          "data": {
            "text/plain": [
              "numpy.ndarray"
            ]
          },
          "metadata": {},
          "execution_count": 7
        }
      ]
    },
    {
      "cell_type": "markdown",
      "source": [
        "## Data shapes"
      ],
      "metadata": {
        "id": "XWeZcH8TTBTv"
      }
    },
    {
      "cell_type": "code",
      "source": [
        "s_array.shape #0 dimension"
      ],
      "metadata": {
        "colab": {
          "base_uri": "https://localhost:8080/"
        },
        "id": "daY8QN2TTEBq",
        "outputId": "b534c355-1177-462e-8934-05f3a966a91b"
      },
      "execution_count": 8,
      "outputs": [
        {
          "output_type": "execute_result",
          "data": {
            "text/plain": [
              "()"
            ]
          },
          "metadata": {},
          "execution_count": 8
        }
      ]
    },
    {
      "cell_type": "code",
      "source": [
        "v.shape"
      ],
      "metadata": {
        "colab": {
          "base_uri": "https://localhost:8080/"
        },
        "id": "3Bl4ZxHkTFtg",
        "outputId": "b3d8fbbe-d316-43e0-d42a-0abdd6341972"
      },
      "execution_count": 9,
      "outputs": [
        {
          "output_type": "execute_result",
          "data": {
            "text/plain": [
              "(3,)"
            ]
          },
          "metadata": {},
          "execution_count": 9
        }
      ]
    },
    {
      "cell_type": "code",
      "source": [
        "m.shape\n"
      ],
      "metadata": {
        "colab": {
          "base_uri": "https://localhost:8080/"
        },
        "id": "Nk5F__k9TH8u",
        "outputId": "b7464674-dde8-49c8-d487-dfd6bd278bd3"
      },
      "execution_count": 10,
      "outputs": [
        {
          "output_type": "execute_result",
          "data": {
            "text/plain": [
              "(2, 3)"
            ]
          },
          "metadata": {},
          "execution_count": 10
        }
      ]
    },
    {
      "cell_type": "markdown",
      "source": [
        "## Creating column vector with reshape"
      ],
      "metadata": {
        "id": "kyYb548yTPpy"
      }
    },
    {
      "cell_type": "code",
      "source": [
        "v.reshape(3,1) # column vector\n"
      ],
      "metadata": {
        "colab": {
          "base_uri": "https://localhost:8080/"
        },
        "id": "R_lN4nyrTUhb",
        "outputId": "c680d33d-4d86-48ba-b96c-7ff2797f0293"
      },
      "execution_count": 11,
      "outputs": [
        {
          "output_type": "execute_result",
          "data": {
            "text/plain": [
              "array([[ 5],\n",
              "       [-2],\n",
              "       [ 4]])"
            ]
          },
          "metadata": {},
          "execution_count": 11
        }
      ]
    },
    {
      "cell_type": "code",
      "source": [
        "v.reshape(1,3) #row vector"
      ],
      "metadata": {
        "colab": {
          "base_uri": "https://localhost:8080/"
        },
        "id": "RbZ9zcnVTZin",
        "outputId": "819d6f6e-d64b-4b78-aaf2-b574d61d1f8e"
      },
      "execution_count": 12,
      "outputs": [
        {
          "output_type": "execute_result",
          "data": {
            "text/plain": [
              "array([[ 5, -2,  4]])"
            ]
          },
          "metadata": {},
          "execution_count": 12
        }
      ]
    },
    {
      "cell_type": "markdown",
      "source": [
        "## Creating a tensor"
      ],
      "metadata": {
        "id": "bSJKqmfkUTNH"
      }
    },
    {
      "cell_type": "code",
      "source": [
        "m2 = np.array([[9,16,10] , [3,4,5]])"
      ],
      "metadata": {
        "id": "WmqiMyg1UUv9"
      },
      "execution_count": 13,
      "outputs": []
    },
    {
      "cell_type": "code",
      "source": [
        "t = np.array([ m , m2])\n",
        "t"
      ],
      "metadata": {
        "colab": {
          "base_uri": "https://localhost:8080/"
        },
        "id": "9aMWbQ17UkVi",
        "outputId": "e7c997fb-8af4-4ecc-ba8b-a7e16b0432ce"
      },
      "execution_count": 14,
      "outputs": [
        {
          "output_type": "execute_result",
          "data": {
            "text/plain": [
              "array([[[ 5, 12,  6],\n",
              "        [-3,  0, 14]],\n",
              "\n",
              "       [[ 9, 16, 10],\n",
              "        [ 3,  4,  5]]])"
            ]
          },
          "metadata": {},
          "execution_count": 14
        }
      ]
    },
    {
      "cell_type": "code",
      "source": [
        "t.shape"
      ],
      "metadata": {
        "colab": {
          "base_uri": "https://localhost:8080/"
        },
        "id": "0c6nour3UqTU",
        "outputId": "ad4861d6-787e-4c49-9129-e7adcc2ce032"
      },
      "execution_count": 15,
      "outputs": [
        {
          "output_type": "execute_result",
          "data": {
            "text/plain": [
              "(2, 2, 3)"
            ]
          },
          "metadata": {},
          "execution_count": 15
        }
      ]
    },
    {
      "cell_type": "markdown",
      "source": [
        "## Manually creating a tensor"
      ],
      "metadata": {
        "id": "NSKg7VchUs8B"
      }
    },
    {
      "cell_type": "code",
      "source": [
        "t_manual = np.array([[[3,4,5],[6,7,8]] , [[3,4,5] , [5,6,7]]])\n",
        "t_manual"
      ],
      "metadata": {
        "colab": {
          "base_uri": "https://localhost:8080/"
        },
        "id": "_T5KgYS5UrGV",
        "outputId": "abd3a26d-9861-429f-b67d-0c4c67221f2b"
      },
      "execution_count": 16,
      "outputs": [
        {
          "output_type": "execute_result",
          "data": {
            "text/plain": [
              "array([[[3, 4, 5],\n",
              "        [6, 7, 8]],\n",
              "\n",
              "       [[3, 4, 5],\n",
              "        [5, 6, 7]]])"
            ]
          },
          "metadata": {},
          "execution_count": 16
        }
      ]
    },
    {
      "cell_type": "markdown",
      "source": [
        "##Transposing matrix"
      ],
      "metadata": {
        "id": "b0SdhPAUoxce"
      }
    },
    {
      "cell_type": "code",
      "source": [
        "t_manual.T"
      ],
      "metadata": {
        "colab": {
          "base_uri": "https://localhost:8080/"
        },
        "id": "C4XbVLpyozFu",
        "outputId": "6ef11ecf-7d54-48ad-fa0d-058bb13b937f"
      },
      "execution_count": 17,
      "outputs": [
        {
          "output_type": "execute_result",
          "data": {
            "text/plain": [
              "array([[[3, 3],\n",
              "        [6, 5]],\n",
              "\n",
              "       [[4, 4],\n",
              "        [7, 6]],\n",
              "\n",
              "       [[5, 5],\n",
              "        [8, 7]]])"
            ]
          },
          "metadata": {},
          "execution_count": 17
        }
      ]
    },
    {
      "cell_type": "markdown",
      "source": [
        "## transposing vectors"
      ],
      "metadata": {
        "id": "xQtYlYh7o5GX"
      }
    },
    {
      "cell_type": "code",
      "source": [
        "v1 = np.array([1,2,3]) "
      ],
      "metadata": {
        "id": "0IM5iW4Yo1n1"
      },
      "execution_count": 18,
      "outputs": []
    },
    {
      "cell_type": "code",
      "source": [
        "v1.T"
      ],
      "metadata": {
        "colab": {
          "base_uri": "https://localhost:8080/"
        },
        "id": "TRLvFIL7pAlw",
        "outputId": "7973c2de-a9a2-4f48-db9e-0b54e521fe94"
      },
      "execution_count": 19,
      "outputs": [
        {
          "output_type": "execute_result",
          "data": {
            "text/plain": [
              "array([1, 2, 3])"
            ]
          },
          "metadata": {},
          "execution_count": 19
        }
      ]
    },
    {
      "cell_type": "code",
      "source": [
        "v1_reshaped = v1.reshape(1,3)\n",
        "v1_reshaped"
      ],
      "metadata": {
        "colab": {
          "base_uri": "https://localhost:8080/"
        },
        "id": "v8WmEuJZpAdW",
        "outputId": "d15d1605-313e-4845-82d1-268e71b56131"
      },
      "execution_count": 23,
      "outputs": [
        {
          "output_type": "execute_result",
          "data": {
            "text/plain": [
              "array([[1, 2, 3]])"
            ]
          },
          "metadata": {},
          "execution_count": 23
        }
      ]
    },
    {
      "cell_type": "code",
      "source": [
        "v1_reshaped.T"
      ],
      "metadata": {
        "colab": {
          "base_uri": "https://localhost:8080/"
        },
        "id": "qXKlEiySpMkh",
        "outputId": "bc505a74-6345-4a0c-c8d4-31ffd539a90f"
      },
      "execution_count": 24,
      "outputs": [
        {
          "output_type": "execute_result",
          "data": {
            "text/plain": [
              "array([[1],\n",
              "       [2],\n",
              "       [3]])"
            ]
          },
          "metadata": {},
          "execution_count": 24
        }
      ]
    }
  ]
}